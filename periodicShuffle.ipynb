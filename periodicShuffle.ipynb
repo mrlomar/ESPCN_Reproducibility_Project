{
 "cells": [
  {
   "cell_type": "code",
   "execution_count": 1,
   "metadata": {},
   "outputs": [
    {
     "name": "stdout",
     "output_type": "stream",
     "text": [
      "True\n"
     ]
    }
   ],
   "source": [
    "import numpy as np\n",
    "from math import floor\n",
    "\n",
    "def PS(T, r):\n",
    "    # Input is H x W x C.r^2\n",
    "    # Get dimensions for the output\n",
    "    C = len(T)/(r*r)\n",
    "    rH = r*len(T[0])\n",
    "    rW = r*len(T[0][0])\n",
    "    # make sure C is an integer and cast if this is the case\n",
    "    assert(C == int(C))\n",
    "    C = int(C)\n",
    "    # Tensors initialised as np.zeros(C, H, W)\n",
    "    res = np.zeros((C, rH, rW))\n",
    "    \n",
    "    for c in range(len(res)):\n",
    "        for y in range(len(res[c])):\n",
    "            for x in range(len(res[c][y])):\n",
    "                # remember CHW\n",
    "                res[c][y][x] = \\\n",
    "                    T[C*r*(y % r) + C*(x % r) + c][floor(y/r)][floor(x/r)]\n",
    "    return res\n",
    "\n",
    "def PS_inv(img, r):\n",
    "    # Input is rH x rW x C\n",
    "    # Output must be H x W x C*r^2\n",
    "    r2 = r*r\n",
    "    Cr2 = len(img)*r2\n",
    "    H = len(img[0])/r\n",
    "    W = len(img[0][0])/r\n",
    "    # Make sure H and W are integers\n",
    "    assert(int(H) == H and int(W) == W)\n",
    "    H, W = int(H), int(W)\n",
    "    \n",
    "    # Output is the weird feature mapped stuff\n",
    "    res = np.zeros((Cr2, H, W))\n",
    "    for c in range(len(img)):\n",
    "        for i in range(r):\n",
    "            for j in range(r):\n",
    "                for y in range(len(res[c*r2 + i + j*2])):\n",
    "                    for x in range(len(res[c*r2 + i + j*2][y])):\n",
    "                        res[c*r2 + i + j*2][y][x] = img[c][y*r + j][x*r + i]\n",
    "    return res\n",
    "    \n",
    "test = np.random.rand(4*3, 16, 16)\n",
    "\n",
    "res = PS(test, 2)\n",
    "res2 = PS_inv(res, 2)\n",
    "\n",
    "# Check if the inverse creates the first\n",
    "print(test.all() == res2.all())"
   ]
  }
 ],
 "metadata": {
  "kernelspec": {
   "display_name": "Python 3",
   "language": "python",
   "name": "python3"
  },
  "language_info": {
   "codemirror_mode": {
    "name": "ipython",
    "version": 3
   },
   "file_extension": ".py",
   "mimetype": "text/x-python",
   "name": "python",
   "nbconvert_exporter": "python",
   "pygments_lexer": "ipython3",
   "version": "3.7.1"
  }
 },
 "nbformat": 4,
 "nbformat_minor": 2
}
